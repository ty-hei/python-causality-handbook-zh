{
 "cells": [
  {
   "cell_type": "markdown",
   "metadata": {},
   "source": [
    "# 11 - 倾向得分\n",
    "\n",
    "## 成长心理学\n",
    "\n",
    "积极心理学这一领域研究哪些人类行为能引导我们过上更好的人生。你可以把它理解为“自助书籍”和“统计学严谨性”的交叉点。积极心理学中一个著名的发现是“成长型心态”。这个概念认为，人们可以拥有固定型心态或成长型心态。\n",
    "- 如果你拥有固定型心态，你会认为能力是在出生或早期童年就被决定的。因此，智力是固定的，终生无法改变。如果你现在没有某项能力，那你将永远无法获得它。这种想法的推论是：你不应该在自己不擅长的领域浪费时间，因为你永远也学不会。\n",
    "- 而如果你拥有成长型心态，你会相信智力是可以被培养的。其直接的结果是：你不会将失败视为缺乏毅力，而是将其视为学习过程中的一部分。\n",
    "\n",
    "我并不想争论这两种心态中哪一种才是正确的（尽管答案或许介于两者之间）。就我们的目的而言，这并不重要。真正重要的是，心理学家发现拥有成长型心态的人往往在生活中表现更佳。他们更有可能实现自己设定的目标。\n",
    "\n",
    "尽管我们精通因果推断，但已学会以怀疑态度看待这些论断。究竟是成长型心态促使人们取得更多成就？还是仅仅因为取得更多成就的人容易因其成功而发展出成长型心态？孰因孰果，如同鸡与蛋的悖论？用潜在结果模型表述，我们有理由相信这些陈述存在偏误。$Y_0|T=1$ 很可能大于 $Y_0|T=0$，这意味着即使持有固定型心态，那些具备成长型心态的人原本也能取得更高成就。\n",
    "\n",
    "为解决这一问题，研究人员设计了“[全国学习心态研究](https://mindsetscholarsnetwork.org/about-the-network/current-initatives/national-mindset-study/#)”。这是一项在美国公立高中开展的随机对照试验，旨在探究成长型心态的影响效果。其运作方式为：学校向学生提供旨在培养成长型心态的研讨会，随后追踪学生大学期间的学业表现以评估成效。这些测量结果被整合成标准化成就分数。出于保护学生隐私的考虑，该研究的真实数据未公开。但我们将使用 [Athey 和 Wager](https://arxiv.org/pdf/1902.07409.pdf) 提供的具有相同统计特性的模拟数据集作为替代。"
   ]
  },
  {
   "cell_type": "code",
   "execution_count": 79,
   "metadata": {
    "ExecuteTime": {
     "end_time": "2023-07-28T12:13:32.441023Z",
     "start_time": "2023-07-28T12:13:30.389853Z"
    },
    "tags": [
     "hide-input"
    ]
   },
   "outputs": [],
   "source": [
    "import warnings\n",
    "warnings.filterwarnings('ignore')\n",
    "\n",
    "import pandas as pd\n",
    "import numpy as np\n",
    "from matplotlib import style\n",
    "from matplotlib import pyplot as plt\n",
    "import seaborn as sns\n",
    "import statsmodels.formula.api as smf\n",
    "from causalinference import CausalModel\n",
    "\n",
    "import graphviz as gr\n",
    "\n",
    "%matplotlib inline\n",
    "\n",
    "style.use(\"fivethirtyeight\")\n",
    "pd.set_option(\"display.max_columns\", 6)"
   ]
  },
  {
   "cell_type": "markdown",
   "metadata": {},
   "source": [
    "除处理变量与结果变量外，该研究还记录了以下特征：\n",
    "\n",
    "* schoolid：学生所在学校的标识符；\n",
    "* success_expect：自我报告的未来成功预期（作为学业基础能力的代理变量，在随机分配前测得）；\n",
    "* ethnicity：学生种族/族群的分类变量；\n",
    "* gender：学生自我认同性别的分类变量；\n",
    "* frst_in_family：学生是否为家庭第一代大学生的分类变量，即家庭中首个上大学者；\n",
    "* school_urbanicity：学校层面的城乡属性分类变量，如农村、郊区等；\n",
    "* school_mindset：随机分配前报告的学生固定型思维模式的校级平均值，标准化处理；\n",
    "* school_achievement：基于前四届学生测试成绩及大学预备情况的衡量指标，标准化处理；\n",
    "* school_ethnic_minority：学校种族/族裔少数群体比例，即黑人、拉丁裔或美洲原住民学生占比，标准化处理；\n",
    "* school_poverty：家庭收入低于联邦贫困线标准的学生百分比，标准化处理；\n",
    "* school_size：该校四个年级学生总数的标准化值。\n",
    "\n",
    "```{dropdown} 查看 Stata 代码\n",
    "```stata\n",
    "* Load data (assuming CSV is in current directory)\n",
    "import delimited \"./data/learning_mindset.csv\", clear\n",
    "\n",
    "\n",
    "list in 1/5"
   ]
  },
  {
   "cell_type": "code",
   "execution_count": 82,
   "metadata": {
    "ExecuteTime": {
     "end_time": "2023-07-28T12:13:32.466864Z",
     "start_time": "2023-07-28T12:13:32.442672Z"
    }
   },
   "outputs": [
    {
     "data": {
      "text/html": [
       "<div>\n",
       "<style scoped>\n",
       "    .dataframe tbody tr th:only-of-type {\n",
       "        vertical-align: middle;\n",
       "    }\n",
       "\n",
       "    .dataframe tbody tr th {\n",
       "        vertical-align: top;\n",
       "    }\n",
       "\n",
       "    .dataframe thead th {\n",
       "        text-align: right;\n",
       "    }\n",
       "</style>\n",
       "<table border=\"1\" class=\"dataframe\">\n",
       "  <thead>\n",
       "    <tr style=\"text-align: right;\">\n",
       "      <th></th>\n",
       "      <th>schoolid</th>\n",
       "      <th>intervention</th>\n",
       "      <th>achievement_score</th>\n",
       "      <th>...</th>\n",
       "      <th>school_ethnic_minority</th>\n",
       "      <th>school_poverty</th>\n",
       "      <th>school_size</th>\n",
       "    </tr>\n",
       "  </thead>\n",
       "  <tbody>\n",
       "    <tr>\n",
       "      <th>259</th>\n",
       "      <td>73</td>\n",
       "      <td>1</td>\n",
       "      <td>1.480828</td>\n",
       "      <td>...</td>\n",
       "      <td>-0.515202</td>\n",
       "      <td>-0.169849</td>\n",
       "      <td>0.173954</td>\n",
       "    </tr>\n",
       "    <tr>\n",
       "      <th>3435</th>\n",
       "      <td>76</td>\n",
       "      <td>0</td>\n",
       "      <td>-0.987277</td>\n",
       "      <td>...</td>\n",
       "      <td>-1.310927</td>\n",
       "      <td>0.224077</td>\n",
       "      <td>-0.426757</td>\n",
       "    </tr>\n",
       "    <tr>\n",
       "      <th>9963</th>\n",
       "      <td>4</td>\n",
       "      <td>0</td>\n",
       "      <td>-0.152340</td>\n",
       "      <td>...</td>\n",
       "      <td>0.875012</td>\n",
       "      <td>-0.724801</td>\n",
       "      <td>0.761781</td>\n",
       "    </tr>\n",
       "    <tr>\n",
       "      <th>4488</th>\n",
       "      <td>67</td>\n",
       "      <td>0</td>\n",
       "      <td>0.358336</td>\n",
       "      <td>...</td>\n",
       "      <td>0.315755</td>\n",
       "      <td>0.054586</td>\n",
       "      <td>1.862187</td>\n",
       "    </tr>\n",
       "    <tr>\n",
       "      <th>2637</th>\n",
       "      <td>16</td>\n",
       "      <td>1</td>\n",
       "      <td>1.360920</td>\n",
       "      <td>...</td>\n",
       "      <td>-0.033161</td>\n",
       "      <td>-0.982274</td>\n",
       "      <td>1.591641</td>\n",
       "    </tr>\n",
       "  </tbody>\n",
       "</table>\n",
       "<p>5 rows × 13 columns</p>\n",
       "</div>"
      ],
      "text/plain": [
       "      schoolid  intervention  achievement_score  ...  school_ethnic_minority  \\\n",
       "259         73             1           1.480828  ...               -0.515202   \n",
       "3435        76             0          -0.987277  ...               -1.310927   \n",
       "9963         4             0          -0.152340  ...                0.875012   \n",
       "4488        67             0           0.358336  ...                0.315755   \n",
       "2637        16             1           1.360920  ...               -0.033161   \n",
       "\n",
       "      school_poverty  school_size  \n",
       "259        -0.169849     0.173954  \n",
       "3435        0.224077    -0.426757  \n",
       "9963       -0.724801     0.761781  \n",
       "4488        0.054586     1.862187  \n",
       "2637       -0.982274     1.591641  \n",
       "\n",
       "[5 rows x 13 columns]"
      ]
     },
     "execution_count": 82,
     "metadata": {},
     "output_type": "execute_result"
    }
   ],
   "source": [
    "data = pd.read_csv(\"./data/learning_mindset.csv\")\n",
    "data.sample(5, random_state=5)"
   ]
  },
  {
   "cell_type": "markdown",
   "metadata": {},
   "source": [
    "尽管该研究采用了随机化设计，但数据似乎仍存在混杂因素。若审视额外特征，我们会发现它们在处理组与对照组之间存在系统性差异。一个可能的原因是处理变量以学生是否参与研讨会来衡量。因此，虽然参与机会是随机的，但实际参与行为并非如此。此处我们面临的是不依从性问题。一个证据是学生的成功预期与研讨会参与度呈相关性——自我报告成功预期较高的学生更可能参加了成长心态研讨会。\n",
    "\n",
    "```{dropdown} 查看 Stata 代码\n",
    "```stata\n",
    "* Calculate mean intervention rate by success_expect categories\n",
    "table success_expect, stat(mean intervention)"
   ]
  },
  {
   "cell_type": "code",
   "execution_count": 85,
   "metadata": {
    "ExecuteTime": {
     "end_time": "2023-07-28T12:13:32.472663Z",
     "start_time": "2023-07-28T12:13:32.468050Z"
    }
   },
   "outputs": [
    {
     "data": {
      "text/plain": [
       "success_expect\n",
       "1    0.271739\n",
       "2    0.265957\n",
       "3    0.294118\n",
       "4    0.271617\n",
       "5    0.311070\n",
       "6    0.354287\n",
       "7    0.362319\n",
       "Name: intervention, dtype: float64"
      ]
     },
     "execution_count": 85,
     "metadata": {},
     "output_type": "execute_result"
    }
   ],
   "source": [
    "data.groupby(\"success_expect\")[\"intervention\"].mean()"
   ]
  },
  {
   "cell_type": "markdown",
   "metadata": {},
   "source": [
    "不过，我们仍可观察均值差异 $E[Y|T=1] - E[Y|T=0]$ 的情况，这将作为后续比较的有用基准。\n",
    "\n",
    "```{dropdown} 查看 Stata 代码\n",
    "```stata\n",
    "* run ols \n",
    "reg achievement_score intervention"
   ]
  },
  {
   "cell_type": "code",
   "execution_count": 88,
   "metadata": {
    "ExecuteTime": {
     "end_time": "2023-07-28T12:13:32.488979Z",
     "start_time": "2023-07-28T12:13:32.474593Z"
    }
   },
   "outputs": [
    {
     "data": {
      "text/html": [
       "<table class=\"simpletable\">\n",
       "<tr>\n",
       "        <td></td>          <th>coef</th>     <th>std err</th>      <th>t</th>      <th>P>|t|</th>  <th>[0.025</th>    <th>0.975]</th>  \n",
       "</tr>\n",
       "<tr>\n",
       "  <th>Intercept</th>    <td>   -0.1538</td> <td>    0.012</td> <td>  -13.201</td> <td> 0.000</td> <td>   -0.177</td> <td>   -0.131</td>\n",
       "</tr>\n",
       "<tr>\n",
       "  <th>intervention</th> <td>    0.4723</td> <td>    0.020</td> <td>   23.133</td> <td> 0.000</td> <td>    0.432</td> <td>    0.512</td>\n",
       "</tr>\n",
       "</table>"
      ],
      "text/latex": [
       "\\begin{center}\n",
       "\\begin{tabular}{lcccccc}\n",
       "\\toprule\n",
       "                      & \\textbf{coef} & \\textbf{std err} & \\textbf{t} & \\textbf{P$> |$t$|$} & \\textbf{[0.025} & \\textbf{0.975]}  \\\\\n",
       "\\midrule\n",
       "\\textbf{Intercept}    &      -0.1538  &        0.012     &   -13.201  &         0.000        &       -0.177    &       -0.131     \\\\\n",
       "\\textbf{intervention} &       0.4723  &        0.020     &    23.133  &         0.000        &        0.432    &        0.512     \\\\\n",
       "\\bottomrule\n",
       "\\end{tabular}\n",
       "\\end{center}"
      ],
      "text/plain": [
       "<class 'statsmodels.iolib.table.SimpleTable'>"
      ]
     },
     "execution_count": 88,
     "metadata": {},
     "output_type": "execute_result"
    }
   ],
   "source": [
    "smf.ols(\"achievement_score ~ intervention\", data=data).fit().summary().tables[1]"
   ]
  },
  {
   "cell_type": "markdown",
   "metadata": {},
   "source": [
    "仅通过比较接受干预与未接受干预的群体，我们可以发现，接受干预者的成绩分数平均比标准化平均分（即零分）高出 0.3185（0.4723 减去 0.1538）。但这个差异是大是小？我明白解读标准化结果可能颇具挑战，但请稍安勿躁。我认为值得深入探讨，因为标准化分数的出现绝非仅此一次。\n",
    " \n",
    "被标准化的结果变量意味着它是以标准差为单位来衡量的。因此，处理组比未处理组高出 0.3185 个标准差。这就是此处的含义。至于这个差异是大是小，让我们回顾一下正态分布的一些特性。我们知道其 95%的质量落在两个标准差之间，两端各剩 2.5%。这也意味着，若某人高于均值两个标准差，那么 97.5%（95%加上左侧 2.5%的尾部）的个体都位于此人之下。通过查看正态累积分布函数，我们还知道约 85%的质量低于一个标准差，70%低于 0.5 个标准差。由于处理组的平均标准化得分约为 0.5，这意味着他们在个人成就方面超过了 70%的个体。换言之，他们属于成就更高的前 30%人群。下图直观展示了这一情况。\n",
    "\n",
    "```{dropdown} 查看 Stata 代码\n",
    "```stata\n",
    "* Set graph style\n",
    "set scheme s1color\n",
    "color_style tableau\n",
    "\n",
    "* Create combined histogram\n",
    "twoway (histogram achievement_score, bin(20) color(blue%30) legend(label(1 \"All\"))) ///\n",
    "       (histogram achievement_score if intervention == 0, bin(20) color(green%30) legend(label(2 \"Untreated\"))) ///\n",
    "       (histogram achievement_score if intervention == 1, bin(20) color(red%30) legend(label(3 \"Treated\"))) ///\n",
    "       (function y = 0, range(-4 4) lcolor(green) lpattern(solid) lwidth(0.4) legend(label(4 \"Untreated Mean\"))) ///\n",
    "       (function y = 0, range(-4 4) lcolor(red) lpattern(solid) lwidth(0.4) legend(label(5 \"Treated Mean\"))), ///\n",
    "       title(\"Achievement Score Distribution\") ///\n",
    "       xtitle(\"Achievement Score\") ///\n",
    "       ytitle(\"Frequency\") ///\n",
    "       legend(position(6) rows(1)) ///\n",
    "       graphregion(color(white)) ///\n",
    "       plotregion(color(white)) ///\n",
    "       xlabel(-4(1)4, grid) ///\n",
    "       ylabel(, grid)"
   ]
  },
  {
   "cell_type": "code",
   "execution_count": 91,
   "metadata": {
    "ExecuteTime": {
     "end_time": "2023-07-28T12:13:32.651062Z",
     "start_time": "2023-07-28T12:13:32.490276Z"
    }
   },
   "outputs": [
    {
     "data": {
      "image/png": "[encoded data removed]",
      "text/plain": [
       "<Figure size 640x480 with 1 Axes>"
      ]
     },
     "metadata": {},
     "output_type": "display_data"
    }
   ],
   "source": [
    "plt.hist(data[\"achievement_score\"], bins=20, alpha=0.3, label=\"All\")\n",
    "plt.hist(data.query(\"intervention==0\")[\"achievement_score\"], bins=20, alpha=0.3, color=\"C2\")\n",
    "plt.hist(data.query(\"intervention==1\")[\"achievement_score\"], bins=20, alpha=0.3, color=\"C3\")\n",
    "plt.vlines(-0.1538, 0, 300, label=\"Untreated\", color=\"C2\")\n",
    "plt.vlines(-0.1538+0.4723, 0, 300, label=\"Treated\", color=\"C3\")\n",
    "plt.legend()\n",
    "plt.show() ;"
   ]
  },
  {
   "cell_type": "markdown",
   "metadata": {},
   "source": [
    "当然，我们仍认为这一结果存在偏误。处理组与未处理组之间的差异可能比这小，因为我们推测偏误为正。我们已经看到，更有抱负的人更愿意参加研讨会，因此即便未参与，他们可能也会取得更高成就。为控制这一偏误，可采用回归或匹配方法，但现在该学习一项新技术了。\n",
    "\n",
    "## 倾向得分\n",
    "\n",
    "倾向得分源于一个认识：无需直接控制混杂变量 X 即可实现条件独立性 $(Y_1, Y_0) \\perp T | X$。实际上，控制一个平衡得分 $E[T|X]$ 就足够了。该平衡得分通常是处理的条件概率 $P(T|X)$，亦称倾向得分 $e(x)$。倾向得分使得不必对 X 整体进行条件限制就能实现潜在结果对处理的独立性，仅需对这一单一变量（即倾向得分）进行条件控制即可：\n",
    "\n",
    "$\n",
    "(Y_1, Y_0) \\perp T | e(x)\n",
    "$\n",
    "\n",
    "关于这一点有一个正式的证明，但我们现在可以暂时忽略它，以更直观的方式来探讨这个问题。倾向得分是接受处理的条件概率，对吧？因此，我们可以将其视为某种将 X 转化为处理 T 的函数。倾向得分在变量 X 和处理 T 之间起到了桥梁的作用。如果我们在因果图中展示这一点，它看起来会是这样的。"
   ]
  },
  {
   "cell_type": "code",
   "execution_count": 94,
   "metadata": {
    "ExecuteTime": {
     "end_time": "2023-07-28T12:13:32.881668Z",
     "start_time": "2023-07-28T12:13:32.652335Z"
    },
    "tags": [
     "hide-input"
    ]
   },
   "outputs": [
    {
     "data": {
      "image/svg+xml": [
       "<?xml version=\"1.0\" encoding=\"UTF-8\" standalone=\"no\"?>\n",
       "<!DOCTYPE svg PUBLIC \"-//W3C//DTD SVG 1.1//EN\"\n",
       " \"http://www.w3.org/Graphics/SVG/1.1/DTD/svg11.dtd\">\n",
       "<!-- Generated by graphviz version 12.2.1 (20241206.2353)\n",
       " -->\n",
       "<!-- Pages: 1 -->\n",
       "<svg width=\"90pt\" height=\"260pt\"\n",
       " viewBox=\"0.00 0.00 90.00 260.00\" xmlns=\"http://www.w3.org/2000/svg\" xmlns:xlink=\"http://www.w3.org/1999/xlink\">\n",
       "<g id=\"graph0\" class=\"graph\" transform=\"scale(1 1) rotate(0) translate(4 256)\">\n",
       "<polygon fill=\"white\" stroke=\"none\" points=\"-4,4 -4,-256 86,-256 86,4 -4,4\"/>\n",
       "<!-- T -->\n",
       "<g id=\"node1\" class=\"node\">\n",
       "<title>T</title>\n",
       "<ellipse fill=\"none\" stroke=\"black\" cx=\"55\" cy=\"-90\" rx=\"27\" ry=\"18\"/>\n",
       "<text text-anchor=\"middle\" x=\"55\" y=\"-84.95\" font-family=\"Times,serif\" font-size=\"14.00\">T</text>\n",
       "</g>\n",
       "<!-- Y -->\n",
       "<g id=\"node2\" class=\"node\">\n",
       "<title>Y</title>\n",
       "<ellipse fill=\"none\" stroke=\"black\" cx=\"27\" cy=\"-18\" rx=\"27\" ry=\"18\"/>\n",
       "<text text-anchor=\"middle\" x=\"27\" y=\"-12.95\" font-family=\"Times,serif\" font-size=\"14.00\">Y</text>\n",
       "</g>\n",
       "<!-- T&#45;&gt;Y -->\n",
       "<g id=\"edge1\" class=\"edge\">\n",
       "<title>T&#45;&gt;Y</title>\n",
       "<path fill=\"none\" stroke=\"black\" d=\"M48.36,-72.41C45.23,-64.57 41.4,-54.99 37.85,-46.13\"/>\n",
       "<polygon fill=\"black\" stroke=\"black\" points=\"41.11,-44.86 34.15,-36.88 34.61,-47.46 41.11,-44.86\"/>\n",
       "</g>\n",
       "<!-- X -->\n",
       "<g id=\"node3\" class=\"node\">\n",
       "<title>X</title>\n",
       "<ellipse fill=\"none\" stroke=\"black\" cx=\"27\" cy=\"-234\" rx=\"27\" ry=\"18\"/>\n",
       "<text text-anchor=\"middle\" x=\"27\" y=\"-228.95\" font-family=\"Times,serif\" font-size=\"14.00\">X</text>\n",
       "</g>\n",
       "<!-- X&#45;&gt;Y -->\n",
       "<g id=\"edge2\" class=\"edge\">\n",
       "<title>X&#45;&gt;Y</title>\n",
       "<path fill=\"none\" stroke=\"black\" d=\"M23.75,-215.89C21.95,-205.54 19.91,-192.06 19,-180 15.41,-132.13 15.41,-119.87 19,-72 19.6,-63.99 20.71,-55.35 21.91,-47.43\"/>\n",
       "<polygon fill=\"black\" stroke=\"black\" points=\"25.35,-48.04 23.51,-37.61 18.45,-46.91 25.35,-48.04\"/>\n",
       "</g>\n",
       "<!-- e(x) -->\n",
       "<g id=\"node4\" class=\"node\">\n",
       "<title>e(x)</title>\n",
       "<ellipse fill=\"none\" stroke=\"black\" cx=\"55\" cy=\"-162\" rx=\"27\" ry=\"18\"/>\n",
       "<text text-anchor=\"middle\" x=\"55\" y=\"-156.95\" font-family=\"Times,serif\" font-size=\"14.00\">e(x)</text>\n",
       "</g>\n",
       "<!-- X&#45;&gt;e(x) -->\n",
       "<g id=\"edge3\" class=\"edge\">\n",
       "<title>X&#45;&gt;e(x)</title>\n",
       "<path fill=\"none\" stroke=\"black\" d=\"M33.64,-216.41C36.77,-208.57 40.6,-198.99 44.15,-190.13\"/>\n",
       "<polygon fill=\"black\" stroke=\"black\" points=\"47.39,-191.46 47.85,-180.88 40.89,-188.86 47.39,-191.46\"/>\n",
       "</g>\n",
       "<!-- e(x)&#45;&gt;T -->\n",
       "<g id=\"edge4\" class=\"edge\">\n",
       "<title>e(x)&#45;&gt;T</title>\n",
       "<path fill=\"none\" stroke=\"black\" d=\"M55,-143.7C55,-136.41 55,-127.73 55,-119.54\"/>\n",
       "<polygon fill=\"black\" stroke=\"black\" points=\"58.5,-119.62 55,-109.62 51.5,-119.62 58.5,-119.62\"/>\n",
       "</g>\n",
       "</g>\n",
       "</svg>\n"
      ],
      "text/plain": [
       "<graphviz.graphs.Digraph at 0x15eafd9d0>"
      ]
     },
     "execution_count": 94,
     "metadata": {},
     "output_type": "execute_result"
    }
   ],
   "source": [
    "g = gr.Digraph()\n",
    "g.edge(\"T\", \"Y\")\n",
    "g.edge(\"X\", \"Y\")\n",
    "g.edge(\"X\", \"e(x)\")\n",
    "g.edge(\"e(x)\", \"T\")\n",
    "g"
   ]
  },
  {
   "cell_type": "markdown",
   "metadata": {},
   "source": [
    "若已知 e(x)的值，仅凭 X 本身无法提供更多有助于预测 T 的信息。这意味着控制 e(x)的效果等同于直接控制 X。以我们的心态项目为例，处理组与对照组最初不具备可比性，因为更具雄心的人既更可能接受处理，也更容易在生活中取得更大成就。然而，若从处理组和对照组中各取一人，且这两人具有相同的处理接收概率时，他们便具有可比性。试想：若两人接受处理的概率完全相同，那么其中一人接受处理而另一人未接受的唯一原因纯属偶然。保持倾向得分不变的作用，就在于使数据看起来如同随机分配一般。\n",
    "\n",
    "既然直观理解已建立，现在让我们审视数学证明。我们需要证明 $(Y_1, Y_0) \\perp T | e(x)$ 等价于以下表述：\n",
    "\n",
    "$\n",
    "E[T|e(x), X] = E[T|e(x)] \n",
    "$\n",
    "\n",
    "这实质上表明，在给定 $e(x)$ 的条件下，X 无法为 $T$ 提供任何额外信息。该证明过程颇为奇特：我们将通过将上述等式转化为一个不言自明的陈述来完成证明。首先观察等式左侧的 $E[T|e(x), X]$。\n",
    "\n",
    "$\n",
    "E[T|e(x), X] = E[T|X] = e(x)\n",
    "$\n",
    "\n",
    "我们利用 $e(x)$ 仅是 X 的函数这一事实，因此在已对 X 本身进行条件化后，再对其条件化不会提供额外信息。接着，我们运用倾向得分的定义 $E[T|X]$。\n",
    "\n",
    "对于右侧，我们将使用迭代期望定律 $E[A] = E[E[A|B]]$。该定律表明，可以通过分解 B 后 A 的值来计算 A 的期望值，然后取其平均值。\n",
    "\n",
    "$\n",
    "E[T|e(x)] = E[E[T|e(x),X]|e(x)] = E[e(x)|e(x)] = e(x)\n",
    "$\n",
    "\n",
    "第一个等式源于迭代期望定律。第二个等式则来自我们在处理左侧时得出的结论。由于等式左右两边均等于 $e(x)$，故此等式显然成立。\n",
    "\n",
    "## 倾向性加权\n",
    "\n",
    "![img](./images/11/balance.png)\n",
    "\n",
    "好的，我们得到了倾向得分。接下来呢？就像我说的，我们只需要以它为条件进行分析。例如，我们可以运行一个仅以倾向得分为条件的线性回归，而不是所有的 X 变量。现在，让我们看看一种仅使用倾向得分的技术。其核心思想是利用倾向得分来表达条件均值差异。\n",
    "\n",
    "$\n",
    "E[Y|X,T=1]-E[Y|X,T=0] = E\\bigg[\\dfrac{Y}{e(x)}|X,T=1\\bigg]P(T) - E\\bigg[\\dfrac{Y}{(1-e(x))}|X,T=0\\bigg](1-P(T))\n",
    "$\n",
    "\n",
    "我们还可以进一步简化这个表达式，但先以这种方式来看，它能帮助我们直观理解“倾向得分”到底在做什么。第一个项是在估计 $Y_1$，它是将所有接受处理的个体按其接受处理的概率的倒数进行加权。这个操作的效果是：那些接受处理但原本不太可能接受处理的个体被赋予更高的权重。\n",
    "\n",
    "这很合理，对吧？如果一个人接受处理的概率很低，说明他更像是未接受处理的个体；然而他实际上却接受了处理——这就很有价值。**我们得到了一个“看起来像未处理人群”的受处理个体，因此要赋予他更高的权重**。通过这种方式，我们构造出一个“每个人都接受了处理”的人群，且这个人群的分布和原始人群相同。\n",
    "\n",
    "同样地，第二个项处理的是未接受处理的个体，并且对那些“看起来像处理组”的个体赋予更高的权重。\n",
    "\n",
    "这种估计方法被称为 **倾向得分逆概率加权法（IPTW, Inverse Probability of Treatment Weighting）**，因为它根据个体**实际接受的处理的概率的倒数**对每一个样本单位进行加权。\n",
    "\n",
    "用图像展示，这就是加权所实现的效果。\n",
    "\n",
    "![img](./images/11/iptw.png)\n",
    "\n",
    "左上角的图表展示了原始数据。蓝点代表未经处理的样本，红点代表经过处理的样本。底部图表显示了倾向得分 $e(x)$。注意其值介于 0 到 1 之间，并随着 X 的增加而增长。最后，右上角的图表是加权后的数据。可以看到，位于左侧（倾向得分较低）的红点（处理组）具有更高的权重；同样，位于右侧的蓝点（对照组）也拥有更高的权重。\n",
    "\n",
    "现在我们已经理解了直观概念，可以将上述表达式简化为\n",
    "\n",
    "$$\n",
    "\\begin{align}\n",
    "E[Y|X,T=1]-E[Y|X,T=0] &= E\\bigg[\\dfrac{Y}{e(x)}|X,T=1\\bigg]P(T) - E\\bigg[\\dfrac{Y}{(1-e(x))}|X,T=0\\bigg](1-P(T)) \\\\\n",
    "&=E\\bigg[\\dfrac{YT}{e(x)}\\bigg|X\\bigg] - E\\bigg[\\dfrac{Y(1-T)}{(1-e(x))}\\bigg|X\\bigg] \\\\\n",
    "&=E\\bigg[\\dfrac{YT}{e(x)} - \\dfrac{Y(1-T)}{(1-e(x))}\\bigg|X\\bigg] \\\\\n",
    "&=E\\bigg[Y\\dfrac{T(1-e(x)) - e(x)(1-T)}{e(x)(1-e(x))}\\bigg|X\\bigg] \\\\\n",
    "&=E\\bigg[Y \\dfrac{T-e(x)}{e(x)(1-e(x))}\\bigg|X\\bigg]\n",
    "\\end{align}\n",
    "$$\n",
    "\n",
    "若对 X 进行积分，该式即成为我们的倾向得分加权估计量。\n",
    "\n",
    "$\n",
    "E\\bigg[Y \\dfrac{T-e(x)}{e(x)(1-e(x))}\\bigg]\n",
    "$\n",
    "\n",
    "注意，此估计量要求 $e(x)$ 和 $1-e(x)$ 必须大于零。换言之，这意味着每个人都需有一定概率接受处理和不接受处理。另一种表述是处理组与未处理组的分布需存在重叠，这正是因果推断中的**正值性假设**。这一假设在直观上也合乎逻辑——若处理组与未处理组无重叠，则表明两者差异极大，此时无法将一组的效应外推至另一组。虽然这种外推并非不可能（回归分析即采用此法），但其风险极高。这如同仅在男性群体中试验新药后，便假定女性群体会有同等疗效。\n",
    "\n",
    "\n",
    "## 倾向得分估计\n",
    "\n",
    "理想情况下，我们应掌握真实的倾向得分 $e(x)$。但实际上，处理分配机制未知，需用其估计值 $\\hat{e}(x)$ 替代。常用方法是逻辑回归，但也可采用梯度提升等机器学习方法（尽管需额外步骤防止过拟合）。 \n",
    "\n",
    "在此，我将坚持使用逻辑回归。这意味着我需要将数据集中的分类特征转换为虚拟变量。\n",
    "\n",
    "```{dropdown} 查看 Stata 代码\n",
    "```stata\n",
    "* 1. Create dummy variables for categorical features\n",
    "foreach var in ethnicity gender school_urbanicity {\n",
    "    tab `var', gen(`var'_)\n",
    "    label var `var'_1 \"`var' category 1\"\n",
    "    * Drop reference category if needed (uncomment)\n",
    "    * drop `var'_1\n",
    "}\n",
    "\n",
    "* 2. Keep only continuous variables and new dummies\n",
    "keep achievement_score intervention ///\n",
    "     school_mindset school_achievement school_ethnic_minority ///\n",
    "     school_poverty school_size ethnicity_* gender_* school_urbanicity_* ///\n",
    "\t schoolid frst_in_family schoolid success_expect\n",
    "\n",
    "* 3. Display new dataset structure\n",
    "describe\n",
    "display \"New dataset dimensions: \" c(N) \" observations, \" c(k) \" variables\""
   ]
  },
  {
   "cell_type": "code",
   "execution_count": 97,
   "metadata": {
    "ExecuteTime": {
     "end_time": "2023-07-28T12:13:32.893809Z",
     "start_time": "2023-07-28T12:13:32.883378Z"
    }
   },
   "outputs": [
    {
     "name": "stdout",
     "output_type": "stream",
     "text": [
      "(10391, 32)\n"
     ]
    }
   ],
   "source": [
    "categ = [\"ethnicity\", \"gender\", \"school_urbanicity\"]\n",
    "cont = [\"school_mindset\", \"school_achievement\", \"school_ethnic_minority\", \"school_poverty\", \"school_size\"]\n",
    "\n",
    "data_with_categ = pd.concat([\n",
    "    data.drop(columns=categ), # dataset without the categorical features\n",
    "    pd.get_dummies(data[categ], columns=categ, drop_first=False)# categorical features converted to dummies\n",
    "], axis=1)\n",
    "\n",
    "print(data_with_categ.shape)"
   ]
  },
  {
   "cell_type": "markdown",
   "metadata": {},
   "source": [
    "现在，让我们使用逻辑回归来估计倾向得分。\n",
    "\n",
    "```{dropdown} 查看 Stata 代码\n",
    "```stata\n",
    "* 1. Run high-regularization logistic regression \n",
    "logit intervention school_mindset school_achievement school_ethnic_minority ///\n",
    "                school_poverty school_size ethnicity_* gender_* school_urbanicity_*\n",
    "\n",
    "* 2. Predict propensity scores\n",
    "predict propensity_score, pr\n",
    "\n",
    "* 3. Create new dataset with key variables\n",
    "preserve\n",
    "    keep schoolid intervention achievement_score propensity_score\n",
    "    order schoolid intervention achievement_score propensity_score\n",
    "    \n",
    "    * Display first 5 observations\n",
    "    list in 1/5, noobs clean\n",
    "    \n",
    "    * Save for analysis\n",
    "    save propensity_scores, replace\n",
    "restore"
   ]
  },
  {
   "cell_type": "code",
   "execution_count": 100,
   "metadata": {
    "ExecuteTime": {
     "end_time": "2023-07-28T12:13:33.187219Z",
     "start_time": "2023-07-28T12:13:32.895207Z"
    }
   },
   "outputs": [
    {
     "data": {
      "text/html": [
       "<div>\n",
       "<style scoped>\n",
       "    .dataframe tbody tr th:only-of-type {\n",
       "        vertical-align: middle;\n",
       "    }\n",
       "\n",
       "    .dataframe tbody tr th {\n",
       "        vertical-align: top;\n",
       "    }\n",
       "\n",
       "    .dataframe thead th {\n",
       "        text-align: right;\n",
       "    }\n",
       "</style>\n",
       "<table border=\"1\" class=\"dataframe\">\n",
       "  <thead>\n",
       "    <tr style=\"text-align: right;\">\n",
       "      <th></th>\n",
       "      <th>intervention</th>\n",
       "      <th>achievement_score</th>\n",
       "      <th>propensity_score</th>\n",
       "    </tr>\n",
       "  </thead>\n",
       "  <tbody>\n",
       "    <tr>\n",
       "      <th>0</th>\n",
       "      <td>1</td>\n",
       "      <td>0.277359</td>\n",
       "      <td>0.315271</td>\n",
       "    </tr>\n",
       "    <tr>\n",
       "      <th>1</th>\n",
       "      <td>1</td>\n",
       "      <td>-0.449646</td>\n",
       "      <td>0.263482</td>\n",
       "    </tr>\n",
       "    <tr>\n",
       "      <th>2</th>\n",
       "      <td>1</td>\n",
       "      <td>0.769703</td>\n",
       "      <td>0.343781</td>\n",
       "    </tr>\n",
       "    <tr>\n",
       "      <th>3</th>\n",
       "      <td>1</td>\n",
       "      <td>-0.121763</td>\n",
       "      <td>0.343781</td>\n",
       "    </tr>\n",
       "    <tr>\n",
       "      <th>4</th>\n",
       "      <td>1</td>\n",
       "      <td>1.526147</td>\n",
       "      <td>0.367474</td>\n",
       "    </tr>\n",
       "  </tbody>\n",
       "</table>\n",
       "</div>"
      ],
      "text/plain": [
       "   intervention  achievement_score  propensity_score\n",
       "0             1           0.277359          0.315271\n",
       "1             1          -0.449646          0.263482\n",
       "2             1           0.769703          0.343781\n",
       "3             1          -0.121763          0.343781\n",
       "4             1           1.526147          0.367474"
      ]
     },
     "execution_count": 100,
     "metadata": {},
     "output_type": "execute_result"
    }
   ],
   "source": [
    "from sklearn.linear_model import LogisticRegression\n",
    "\n",
    "T = 'intervention'\n",
    "Y = 'achievement_score'\n",
    "X = data_with_categ.columns.drop(['schoolid', T, Y])\n",
    "\n",
    "ps_model = LogisticRegression(C=1e6).fit(data_with_categ[X], data_with_categ[T])\n",
    "\n",
    "data_ps = data.assign(propensity_score=ps_model.predict_proba(data_with_categ[X])[:, 1])\n",
    "\n",
    "data_ps[[\"intervention\", \"achievement_score\", \"propensity_score\"]].head()"
   ]
  },
  {
   "cell_type": "markdown",
   "metadata": {},
   "source": [
    "首先，我们可以确保倾向得分权重确实重构了一个所有人都接受处理的人群。通过生成权重 $1/e(x)$，它创建了一个所有人都接受处理的群体；而提供权重 $1/(1-e(x))$ 则创建了一个所有人都未接受处理的群体。\n",
    "\n",
    "```{dropdown} 查看 Stata 代码\n",
    "```stata\n",
    "* 1. Calculate inverse probability weights\n",
    "gen ipw = .\n",
    "replace ipw = 1/propensity_score if intervention == 1\n",
    "replace ipw = 1/(1-propensity_score) if intervention == 0\n",
    "\n",
    "* 2. Calculate and display sample sizes\n",
    "count\n",
    "display \"Original Sample Size: \" r(N)\n",
    "\n",
    "sum ipw if intervention == 1\n",
    "display \"Treated Population Sample Size: \" r(sum)\n",
    "\n",
    "sum ipw if intervention == 0\n",
    "display \"Untreated Population Sample Size: \" r(sum)"
   ]
  },
  {
   "cell_type": "code",
   "execution_count": 103,
   "metadata": {
    "ExecuteTime": {
     "end_time": "2023-07-28T12:13:33.196058Z",
     "start_time": "2023-07-28T12:13:33.188469Z"
    }
   },
   "outputs": [
    {
     "name": "stdout",
     "output_type": "stream",
     "text": [
      "Original Sample Size 10391\n",
      "Treated Population Sample Size 10387.611441322644\n",
      "Untreated Population Sample Size 10391.5061043366\n"
     ]
    }
   ],
   "source": [
    "weight_t = 1/data_ps.query(\"intervention==1\")[\"propensity_score\"]\n",
    "weight_nt = 1/(1-data_ps.query(\"intervention==0\")[\"propensity_score\"])\n",
    "print(\"Original Sample Size\", data.shape[0])\n",
    "print(\"Treated Population Sample Size\", sum(weight_t))\n",
    "print(\"Untreated Population Sample Size\", sum(weight_nt))"
   ]
  },
  {
   "cell_type": "markdown",
   "metadata": {},
   "source": [
    "我们还可以利用倾向得分来寻找混杂因素的证据。如果某一人群分段的倾向得分高于另一分段，这意味着存在非随机因素导致处理分配。若该因素同时影响结果变量，则存在混杂。在本例中，我们发现自报更具雄心的学生参加成长心态研讨会的概率也更高。\n",
    "\n",
    "```{dropdown} 查看 Stata 代码\n",
    "```stata\n",
    "* Set modern graph style\n",
    "set scheme s2color\n",
    "color_style tableau\n",
    "\n",
    "* Create boxplot with enhanced formatting\n",
    "graph box propensity_score, over(success_expect) ///\n",
    "    title(\"Confounding Evidence\", size(medium)) ///\n",
    "    ytitle(\"Propensity Score\", size(small)) ///\n",
    "    box(1, color(blue%50)) ///\n",
    "    box(2, color(orange%50)) ///\n",
    "    box(3, color(green%50)) ///\n",
    "    graphregion(color(white)) ///\n",
    "    plotregion(color(white)) ///\n",
    "    ylabel(0.2(0.05)0.5, grid gmin gmax) ///\n",
    "    legend(off)"
   ]
  },
  {
   "cell_type": "code",
   "execution_count": 106,
   "metadata": {
    "ExecuteTime": {
     "end_time": "2023-07-28T12:13:33.309642Z",
     "start_time": "2023-07-28T12:13:33.201234Z"
    },
    "tags": [
     "hide-input"
    ]
   },
   "outputs": [
    {
     "data": {
      "image/png": "[encoded data removed]",
      "text/plain": [
       "<Figure size 640x480 with 1 Axes>"
      ]
     },
     "metadata": {},
     "output_type": "display_data"
    }
   ],
   "source": [
    "sns.boxplot(x=\"success_expect\", y=\"propensity_score\", data=data_ps)\n",
    "plt.title(\"Confounding Evidence\")\n",
    "plt.show();"
   ]
  },
  {
   "cell_type": "markdown",
   "metadata": {},
   "source": [
    "我们还需检查处理组与未处理组之间是否存在重叠。为此，可以观察未处理组和处理组的倾向得分经验分布。从下图可见，无人具有零倾向得分，即使在倾向得分较低的区域也能同时找到处理与未处理的个体。这正是我们所说的处理组与未处理组良好平衡的状态。\n",
    "\n",
    "```{dropdown} 查看 Stata 代码\n",
    "```stata\n",
    "*  Check propensity score distribution\n",
    "twoway (histogram propensity_score if intervention==1, color(red%30)) ///\n",
    "       (histogram propensity_score if intervention==0, color(blue%30)), ///\n",
    "       legend(order(1 \"Treated\" 2 \"Untreated\")) ///\n",
    "       title(\"Propensity Score Distribution\") ///\n",
    "       xtitle(\"Propensity Score\") ///\n",
    "       graphregion(color(white))"
   ]
  },
  {
   "cell_type": "code",
   "execution_count": 109,
   "metadata": {
    "ExecuteTime": {
     "end_time": "2023-07-28T12:13:33.544398Z",
     "start_time": "2023-07-28T12:13:33.312194Z"
    },
    "tags": [
     "hide-input"
    ]
   },
   "outputs": [
    {
     "data": {
      "image/png": "[encoded data removed]",
      "text/plain": [
       "<Figure size 640x480 with 1 Axes>"
      ]
     },
     "metadata": {},
     "output_type": "display_data"
    }
   ],
   "source": [
    "sns.distplot(data_ps.query(\"intervention==0\")[\"propensity_score\"], kde=False, label=\"Non Treated\")\n",
    "sns.distplot(data_ps.query(\"intervention==1\")[\"propensity_score\"], kde=False, label=\"Treated\")\n",
    "plt.title(\"Positivity Check\")\n",
    "plt.legend()\n",
    "plt.show() ;"
   ]
  },
  {
   "cell_type": "markdown",
   "metadata": {},
   "source": [
    "最终，我们可以利用倾向得分加权估计量来评估平均处理效应。\n",
    "\n",
    "```{dropdown} 查看 Stata 代码\n",
    "```stata\n",
    "* 1. Calculate normalized IP weights\n",
    "gen ipw1 = (intervention - propensity_score) / (propensity_score * (1 - propensity_score))\n",
    "\n",
    "* 2. Calculate potential outcomes\n",
    "sum achievement_score [aw=ipw1] if intervention == 1\n",
    "scalar y1 = r(mean)\n",
    "\n",
    "sum achievement_score [aw=ipw1] if intervention == 0\n",
    "scalar y0 = r(mean)\n",
    "\n",
    "* 3. Calculate ATE\n",
    "scalar ate = y1 - y0\n",
    "\n",
    "* 4. Display results with 95% CIs\n",
    "display \"Potential Outcomes and ATE:\"\n",
    "display \"Y1: \" %5.3f y1 \" [95% CI: \" %5.3f (y1 - invttail(r(N)-1,0.025)*r(sd)/sqrt(r(N))) \", \" %5.3f (y1 + invttail(r(N)-1,0.025)*r(sd)/sqrt(r(N))) \"]\"\n",
    "display \"Y0: \" %5.3f y0 \" [95% CI: \" %5.3f (y0 - invttail(r(N)-1,0.025)*r(sd)/sqrt(r(N))) \", \" %5.3f (y0 + invttail(r(N)-1,0.025)*r(sd)/sqrt(r(N))) \"]\"\n",
    "display \"ATE: \" %5.3f ate \" [95% CI: \" %5.3f (ate - invttail(r(N)-1,0.025)*r(sd)/sqrt(r(N))) \", \" %5.3f (ate + invttail(r(N)-1,0.025)*r(sd)/sqrt(r(N))) \"]\"\n",
    "\n",
    "* 5. Recommended: Use teffects for proper inference\n",
    "teffects ipw (achievement_score) (intervention, logit), ///\n",
    "    osample(overlap) ///\n",
    "    vce(robust)"
   ]
  },
  {
   "cell_type": "code",
   "execution_count": 112,
   "metadata": {
    "ExecuteTime": {
     "end_time": "2023-07-28T12:13:33.554213Z",
     "start_time": "2023-07-28T12:13:33.545904Z"
    }
   },
   "outputs": [
    {
     "name": "stdout",
     "output_type": "stream",
     "text": [
      "Y1: 0.2598102832312275\n",
      "Y0: -0.12903052834734596\n",
      "ATE 0.38884081157857353\n"
     ]
    }
   ],
   "source": [
    "weight = ((data_ps[\"intervention\"]-data_ps[\"propensity_score\"]) /\n",
    "          (data_ps[\"propensity_score\"]*(1-data_ps[\"propensity_score\"])))\n",
    "\n",
    "y1 = sum(data_ps.query(\"intervention==1\")[\"achievement_score\"]*weight_t) / len(data)\n",
    "y0 = sum(data_ps.query(\"intervention==0\")[\"achievement_score\"]*weight_nt) / len(data)\n",
    "\n",
    "ate = np.mean(weight * data_ps[\"achievement_score\"])\n",
    "\n",
    "print(\"Y1:\", y1)\n",
    "print(\"Y0:\", y0)\n",
    "print(\"ATE\", ate)"
   ]
  },
  {
   "cell_type": "markdown",
   "metadata": {},
   "source": [
    "倾向得分加权法表明，就成就而言，我们应预期接受处理的个体比未接受处理的同伴高出 0.38 个标准差。同时可见，若无人接受处理，整体成就水平预计将比现状低 0.12 个标准差。同理，若让所有人参与研讨会，预期整体成就水平将提升 0.25 个标准差。这与简单对比处理组和未处理组得出的 0.47 平均处理效应估计值形成对比，证明存在的偏误确实为正，且通过控制变量 X 后，对成长心态影响的估计更为保守。\n",
    "\n",
    "## 标准误差\n",
    "\n",
    "![img](./images/11/bootstrap.png)\n",
    "\n",
    "为计算逆概率加权估计量的标准误，可采用加权平均方差公式。\n",
    "\n",
    "$\n",
    "\\sigma^2_w = \\dfrac{\\sum_{i=1}^{n}w_i(y_i-\\hat{\\mu})^2}{\\sum_{i=1}^{n}w_i}\n",
    "$\n",
    "\n",
    "然而，仅当我们拥有真实的倾向得分时才能使用此方法。若采用其估计版本 $\\hat{P}(x)$，则需考虑这一估计过程中的误差。最简便的做法是对整个流程进行自助法（bootstrap）处理，即通过有放回地从原始数据中抽样，并如上所述计算平均处理效应（ATE）。随后多次重复此过程，以获取 ATE 估计值的分布。"
   ]
  },
  {
   "cell_type": "code",
   "execution_count": 115,
   "metadata": {
    "ExecuteTime": {
     "end_time": "2023-07-28T12:13:56.651256Z",
     "start_time": "2023-07-28T12:13:33.555524Z"
    }
   },
   "outputs": [],
   "source": [
    "from joblib import Parallel, delayed # for parallel processing\n",
    "\n",
    "# define function that computes the IPTW estimator\n",
    "def run_ps(df, X, T, y):\n",
    "    # estimate the propensity score\n",
    "    ps = LogisticRegression(C=1e6, max_iter=1000).fit(df[X], df[T]).predict_proba(df[X])[:, 1]\n",
    "    \n",
    "    weight = (df[T]-ps) / (ps*(1-ps)) # define the weights\n",
    "    return np.mean(weight * df[y]) # compute the ATE\n",
    "\n",
    "np.random.seed(88)\n",
    "# run 1000 bootstrap samples\n",
    "bootstrap_sample = 1000\n",
    "ates = Parallel(n_jobs=4)(delayed(run_ps)(data_with_categ.sample(frac=1, replace=True), X, T, Y)\n",
    "                          for _ in range(bootstrap_sample))\n",
    "ates = np.array(ates)"
   ]
  },
  {
   "cell_type": "markdown",
   "metadata": {},
   "source": [
    "ATE 即为自助样本的均值。要获得置信区间，可考察自助分布的百分位数：对于 95%置信区间，采用 2.5%和 97.5%分位数。"
   ]
  },
  {
   "cell_type": "code",
   "execution_count": 119,
   "metadata": {
    "ExecuteTime": {
     "end_time": "2023-07-28T12:13:56.656230Z",
     "start_time": "2023-07-28T12:13:56.653163Z"
    }
   },
   "outputs": [
    {
     "name": "stdout",
     "output_type": "stream",
     "text": [
      "ATE: 0.3877390990017618\n",
      "95% C.I.: (0.3544138347564195, 0.4197524732114395)\n"
     ]
    }
   ],
   "source": [
    "print(f\"ATE: {ates.mean()}\")\n",
    "print(f\"95% C.I.: {(np.percentile(ates, 2.5), np.percentile(ates, 97.5))}\")"
   ]
  },
  {
   "cell_type": "markdown",
   "metadata": {},
   "source": [
    "我们还可以直观展示自助样本的分布形态及其置信区间。"
   ]
  },
  {
   "cell_type": "code",
   "execution_count": 127,
   "metadata": {
    "ExecuteTime": {
     "end_time": "2023-07-28T12:13:56.755699Z",
     "start_time": "2023-07-28T12:13:56.657285Z"
    }
   },
   "outputs": [
    {
     "data": {
      "image/png": "[encoded data removed]",
      "text/plain": [
       "<Figure size 640x480 with 1 Axes>"
      ]
     },
     "metadata": {},
     "output_type": "display_data"
    }
   ],
   "source": [
    "sns.distplot(ates, kde=False)\n",
    "plt.vlines(np.percentile(ates, 2.5), 0, 30, linestyles=\"dotted\")\n",
    "plt.vlines(np.percentile(ates, 97.5), 0, 30, linestyles=\"dotted\", label=\"95% CI\")\n",
    "plt.title(\"ATE Bootstrap Distribution\")\n",
    "plt.legend()\n",
    "plt.show();"
   ]
  },
  {
   "cell_type": "markdown",
   "metadata": {},
   "source": [
    "## 倾向得分法的常见问题\n",
    "\n",
    "作为一名数据科学家，我深知利用机器学习工具包的全部力量来尽可能精确地估计倾向得分是多么诱人。你可能会迅速沉迷于 AUC 优化、交叉验证和贝叶斯超参数调优之中。我并不是说你不该这么做。事实上，关于倾向得分与机器学习的所有理论都非常新近，我们仍有许多未知领域。但首先理解一些基本概念是值得的。\n",
    "\n",
    "首要一点是，倾向得分的预测质量并不等同于其平衡特性。来自机器学习领域的学者在熟悉因果推断时，最富挑战性的方面之一便是放弃将一切视为预测问题的习惯。实际上，最大化倾向得分的预测能力甚至可能损害因果推断的目标。 **倾向得分无需非常精确地预测处理分配，它只需涵盖所有混杂变量。** 若纳入那些虽能有效预测处理分配但与结果无关的变量，反而会增加倾向得分估计量的方差。这与线性回归中纳入与处理相关但与结果无关变量时所面临的问题类似。\n",
    "\n",
    "![img](./images/11/ml-trap.png)\n",
    "\n",
    "为了理解这一点，请考虑以下示例（改编自 Hernán 的著作）。假设有两所学校，其中一所对 99%的学生实施了成长心态研讨会，另一所仅对 1%的学生实施。进一步假设学校本身对处理效应无直接影响（除非通过处理本身），因此无需对其进行控制。若将学校变量加入倾向得分模型，该变量将具有极高的预测力。然而，偶然情况下，我们可能获得一个样本，其中学校 A 的所有学生均接受了处理，导致该校倾向得分为 1，进而引发方差无限大的问题。此虽为极端案例，但我们将通过模拟数据展示其运作机制。\n",
    "\n",
    "```{dropdown} 查看 Stata 代码\n",
    "```stata\n",
    "clear all\n",
    "set seed 42  // Set random seed for reproducibility (matches Python's np.random.seed(42))\n",
    "\n",
    "// Create data for School A\n",
    "set obs 400  // Create 400 observations\n",
    "gen school = 0  // School identifier (0 for School A)\n",
    "gen intercept = 1  // Constant/intercept term\n",
    "gen T = rbinomial(1, 0.99)  // Generate treatment variable (99% probability of 1)\n",
    "tempfile school_a  // Create temporary file to store School A data\n",
    "save `school_a'  // Save School A data\n",
    "\n",
    "// Create data for School B\n",
    "clear  // Clear memory\n",
    "set obs 400  // Create 400 observations\n",
    "gen school = 1  // School identifier (1 for School B)\n",
    "gen intercept = 1  // Constant/intercept term\n",
    "gen T = rbinomial(1, 0.01)  // Generate treatment variable (1% probability of 1)\n",
    "tempfile school_b  // Create temporary file to store School B data\n",
    "save `school_b'  // Save School B data\n",
    "\n",
    "// Combine datasets (equivalent to pd.concat in Python)\n",
    "use `school_a', clear  // Load School A data\n",
    "append using `school_b'  // Append School B data\n",
    "\n",
    "// Generate outcome variable y (equivalent to .assign() in Python)\n",
    "gen y = rnormal(1 + 0.1 * T)  // y ~ N(1 + 0.1*T, 1)\n",
    "\n",
    "// Display first 5 observations (equivalent to .head() in Python)\n",
    "list in 1/5\t"
   ]
  },
  {
   "cell_type": "code",
   "execution_count": 130,
   "metadata": {
    "ExecuteTime": {
     "end_time": "2023-07-28T12:13:56.765991Z",
     "start_time": "2023-07-28T12:13:56.757081Z"
    }
   },
   "outputs": [
    {
     "data": {
      "text/html": [
       "<div>\n",
       "<style scoped>\n",
       "    .dataframe tbody tr th:only-of-type {\n",
       "        vertical-align: middle;\n",
       "    }\n",
       "\n",
       "    .dataframe tbody tr th {\n",
       "        vertical-align: top;\n",
       "    }\n",
       "\n",
       "    .dataframe thead th {\n",
       "        text-align: right;\n",
       "    }\n",
       "</style>\n",
       "<table border=\"1\" class=\"dataframe\">\n",
       "  <thead>\n",
       "    <tr style=\"text-align: right;\">\n",
       "      <th></th>\n",
       "      <th>T</th>\n",
       "      <th>school</th>\n",
       "      <th>intercept</th>\n",
       "      <th>y</th>\n",
       "    </tr>\n",
       "  </thead>\n",
       "  <tbody>\n",
       "    <tr>\n",
       "      <th>0</th>\n",
       "      <td>1</td>\n",
       "      <td>0</td>\n",
       "      <td>1</td>\n",
       "      <td>0.309526</td>\n",
       "    </tr>\n",
       "    <tr>\n",
       "      <th>1</th>\n",
       "      <td>1</td>\n",
       "      <td>0</td>\n",
       "      <td>1</td>\n",
       "      <td>1.571468</td>\n",
       "    </tr>\n",
       "    <tr>\n",
       "      <th>2</th>\n",
       "      <td>1</td>\n",
       "      <td>0</td>\n",
       "      <td>1</td>\n",
       "      <td>2.982024</td>\n",
       "    </tr>\n",
       "    <tr>\n",
       "      <th>3</th>\n",
       "      <td>1</td>\n",
       "      <td>0</td>\n",
       "      <td>1</td>\n",
       "      <td>2.445420</td>\n",
       "    </tr>\n",
       "    <tr>\n",
       "      <th>4</th>\n",
       "      <td>1</td>\n",
       "      <td>0</td>\n",
       "      <td>1</td>\n",
       "      <td>2.693187</td>\n",
       "    </tr>\n",
       "  </tbody>\n",
       "</table>\n",
       "</div>"
      ],
      "text/plain": [
       "   T  school  intercept         y\n",
       "0  1       0          1  0.309526\n",
       "1  1       0          1  1.571468\n",
       "2  1       0          1  2.982024\n",
       "3  1       0          1  2.445420\n",
       "4  1       0          1  2.693187"
      ]
     },
     "execution_count": 130,
     "metadata": {},
     "output_type": "execute_result"
    }
   ],
   "source": [
    "np.random.seed(42)\n",
    "school_a = pd.DataFrame(dict(T=np.random.binomial(1, .99, 400), school=0, intercept=1))\n",
    "school_b = pd.DataFrame(dict(T=np.random.binomial(1, .01, 400), school=1, intercept=1))\n",
    "ex_data = pd.concat([school_a, school_b]).assign(y = lambda d: np.random.normal(1 + 0.1 * d[\"T\"]))\n",
    "ex_data.head()"
   ]
  },
  {
   "cell_type": "markdown",
   "metadata": {},
   "source": [
    "完成数据模拟后，我们使用倾向得分算法进行了两次自助法（bootstrap）分析。第一次将学校作为特征纳入倾向得分模型，第二次则未将学校变量纳入模型。\n",
    "\n",
    "```{dropdown} 查看 Stata 代码\n",
    "```stata\n",
    "// Define program to estimate ATE\n",
    "capture program drop run_ps\n",
    "program define run_ps, rclass\n",
    "    syntax varlist, TREATment(varname) OUTcome(varname)\n",
    "    \n",
    "\t// Remove existing ps variable if it exists\n",
    "    capture drop ps\n",
    "    capture drop weight\n",
    "\t\n",
    "    // Logistic regression for propensity score\n",
    "    logit `treatment' `varlist'\n",
    "    predict ps, pr  // Get propensity scores\n",
    "    \n",
    "    // IPW estimation (inverse probability weighting)\n",
    "    tempvar weight\n",
    "    gen `weight' = `treatment'/ps + (1-`treatment')/(1-ps)\n",
    "    \n",
    "    // Weighted regression for ATE\n",
    "    reg `outcome' `treatment' [pw=`weight']\n",
    "    \n",
    "    // Return coefficient on treatment\n",
    "    return scalar ate = _b[`treatment']\n",
    "end\n",
    "\n",
    "// Initialize matrices to store results (equivalent to np.array)\n",
    "matrix ate_w_f = J(500, 1, .)  // With school fixed effect\n",
    "matrix ate_wo_f = J(500, 1, .)  // Without school fixed effect\n",
    "\n",
    "// Bootstrap loop (500 replications)\n",
    "forvalues i = 1/500 {\n",
    "    preserve  // Preserve original data\n",
    "    \n",
    "    // Resample with replacement (equivalent to sample(frac=1, replace=True))\n",
    "    bsample\n",
    "    \n",
    "    // Run estimation with school fixed effect\n",
    "    run_ps school, treatment(T) outcome(y)\n",
    "    matrix ate_w_f[`i', 1] = r(ate)\n",
    "    \n",
    "    // Run estimation with only intercept\n",
    "    run_ps intercept, treatment(T) outcome(y)\n",
    "    matrix ate_wo_f[`i', 1] = r(ate)\n",
    "    \n",
    "    restore  // Restore original data\n",
    "}\n",
    "\n",
    "// Convert matrices to Stata variables for analysis\n",
    "clear\n",
    "svmat ate_w_f, names(ate_with_fixed)\n",
    "svmat ate_wo_f, names(ate_without_fixed)\n",
    "\n",
    "// Summarize results\n",
    "summarize ate_with_fixed ate_without_fixed\n",
    "\n",
    "// Create kernel density plots with histograms\n",
    "twoway ///\n",
    "    (histogram ate_with_fixed, color(blue%30) bin(30) legend(label(1 \"PS W School\"))) ///\n",
    "    (histogram ate_without_fixed, color(red%30) bin(30) legend(label(2 \"PS W/O School\"))) ///\n",
    "    (kdensity ate_with_fixed, lcolor(blue) lwidth(medthick)) ///\n",
    "    (kdensity ate_without_fixed, lcolor(red) lwidth(medthick)), ///\n",
    "    legend(order(1 2) position(6) rows(1)) ///\n",
    "    title(\"Distribution of ATE Estimates\") ///\n",
    "    xtitle(\"ATE Estimate\") ytitle(\"Density\") ///\n",
    "    graphregion(color(white)) plotregion(color(white))"
   ]
  },
  {
   "cell_type": "code",
   "execution_count": 133,
   "metadata": {
    "ExecuteTime": {
     "end_time": "2023-07-28T12:13:59.997148Z",
     "start_time": "2023-07-28T12:13:56.767148Z"
    }
   },
   "outputs": [],
   "source": [
    "ate_w_f = np.array([run_ps(ex_data.sample(frac=1, replace=True), [\"school\"], \"T\", \"y\") for _ in range(500)])\n",
    "ate_wo_f = np.array([run_ps(ex_data.sample(frac=1, replace=True), [\"intercept\"], \"T\", \"y\") for _ in range(500)])"
   ]
  },
  {
   "cell_type": "code",
   "execution_count": 139,
   "metadata": {
    "ExecuteTime": {
     "end_time": "2023-07-28T12:14:00.101577Z",
     "start_time": "2023-07-28T12:13:59.998510Z"
    }
   },
   "outputs": [
    {
     "data": {
      "image/png": "[encoded data removed]",
      "text/plain": [
       "<Figure size 640x480 with 1 Axes>"
      ]
     },
     "metadata": {},
     "output_type": "display_data"
    }
   ],
   "source": [
    "sns.distplot(ate_w_f, kde=False, label=\"PS W School\")\n",
    "sns.distplot(ate_wo_f, kde=False, label=\"PS W/O School\")\n",
    "plt.legend()\n",
    "plt.show() ;"
   ]
  },
  {
   "cell_type": "markdown",
   "metadata": {},
   "source": [
    "如你所见，加入学校特征的倾向得分估计器方差极大，而未加入该特征的模型则表现更为稳定。此外，由于学校并非混淆变量，未包含它的模型也不存在偏误。正如我所说，这并非单纯预测处理效应的问题，关键在于构建预测模型时必须控制混杂因素，而非仅着眼于预测处理本身。\n",
    "\n",
    "这引出了倾向得分方法中常见的另一个问题。在我们的案例中，数据最终呈现高度平衡状态，但情况并非总是如此。某些情况下，接受处理者的处理概率远高于未处理者，且倾向得分分布的重叠区域非常有限。\n",
    "\n",
    "```{dropdown} 查看 Stata 代码\n",
    "```stata\n",
    "// Set seed for reproducibility\n",
    "set seed 42\n",
    "\n",
    "// Generate Beta-distributed data (500 obs each)\n",
    "set obs 500\n",
    "gen non_treated = rbeta(4,1)  // Beta(4,1) distribution\n",
    "gen treated = rbeta(1,3)      // Beta(1,3) distribution\n",
    "\n",
    "// Create histogram plot for positivity check\n",
    "twoway ///\n",
    "    (histogram non_treated, color(blue%30) bin(30) legend(label(1 \"Treated\"))) ///\n",
    "    (histogram treated, color(red%30) bin(30) legend(label(2 \"Non-Treated\"))), ///\n",
    "    title(\"Positivity Check\") ///\n",
    "    xtitle(\"Propensity Score\") ytitle(\"Frequency\") ///\n",
    "    legend(order(1 2) position(6) rows(1)) ///\n",
    "    graphregion(color(white)) plotregion(color(white))\t   "
   ]
  },
  {
   "cell_type": "code",
   "execution_count": 146,
   "metadata": {
    "ExecuteTime": {
     "end_time": "2023-07-28T12:14:00.246911Z",
     "start_time": "2023-07-28T12:14:00.103307Z"
    }
   },
   "outputs": [
    {
     "data": {
      "image/png": "[encoded data removed]",
      "text/plain": [
       "<Figure size 640x480 with 1 Axes>"
      ]
     },
     "metadata": {},
     "output_type": "display_data"
    }
   ],
   "source": [
    "sns.distplot(np.random.beta(4,1,500), kde=False, label=\"Non Treated\")\n",
    "sns.distplot(np.random.beta(1,3,500), kde=False, label=\"Treated\")\n",
    "plt.title(\"Positivity Check\")\n",
    "plt.legend()\n",
    "plt.show() ;"
   ]
  },
  {
   "cell_type": "markdown",
   "metadata": {},
   "source": [
    "若出现这种情况，意味着正向效应并不十分显著。假设某处理个体的倾向得分为 0.9，而未处理个体的最大倾向得分为 0.7，我们将无法找到任何未处理个体与这位 0.9 分的个体进行对比。这种匹配失衡可能引发偏误，因为我们必须将处理效应外推至未知区域。不仅如此，具有极高或极低倾向得分的实体权重过大，这会增加方差。根据经验法则，当任何权重超过 20 时（例如未处理个体倾向得分达 0.95 或处理个体倾向得分低至 0.05 时），就会面临问题。\n",
    "\n",
    "另一种方法是将权重限制在最大值为 20。这样做会降低方差，但实际上会增加偏误。坦白说，尽管这是减少方差的常见做法，我并不十分赞同。你无法确定通过截断引入的偏误是否过大。此外，若分布间无重叠，数据可能本就不足以得出因果结论。为了更深入理解这一点，我们可以考察一种结合倾向得分与匹配的技术。\n",
    "\n",
    "## 倾向得分匹配\n",
    "\n",
    "如前所述，在拥有倾向得分的情况下，无需直接控制变量 X，仅控制倾向得分即可。因此，可将倾向得分视为对特征空间的一种降维操作——它将 X 中的所有特征压缩至单一的处理分配维度。基于此，我们可将倾向得分作为其他模型（例如回归模型）的输入特征。\n",
    "\n",
    "```{dropdown} 查看 Stata 代码\n",
    "```stata\n",
    "reg achievement_score intervention propensity_score,vce(robust)\t   \n",
    "\t   \n",
    "* Recommended: Use teffects for proper inference\n",
    "teffects ipw (achievement_score) (intervention, logit), ///\n",
    "    osample(overlap) ///\n",
    "    vce(robust)\t"
   ]
  },
  {
   "cell_type": "code",
   "execution_count": 149,
   "metadata": {
    "ExecuteTime": {
     "end_time": "2023-07-28T12:14:00.263231Z",
     "start_time": "2023-07-28T12:14:00.248501Z"
    }
   },
   "outputs": [
    {
     "data": {
      "text/html": [
       "<table class=\"simpletable\">\n",
       "<tr>\n",
       "          <td></td>            <th>coef</th>     <th>std err</th>      <th>t</th>      <th>P>|t|</th>  <th>[0.025</th>    <th>0.975]</th>  \n",
       "</tr>\n",
       "<tr>\n",
       "  <th>Intercept</th>        <td>   -3.0819</td> <td>    0.066</td> <td>  -46.988</td> <td> 0.000</td> <td>   -3.211</td> <td>   -2.953</td>\n",
       "</tr>\n",
       "<tr>\n",
       "  <th>intervention</th>     <td>    0.3931</td> <td>    0.019</td> <td>   20.975</td> <td> 0.000</td> <td>    0.356</td> <td>    0.430</td>\n",
       "</tr>\n",
       "<tr>\n",
       "  <th>propensity_score</th> <td>    9.0700</td> <td>    0.200</td> <td>   45.244</td> <td> 0.000</td> <td>    8.677</td> <td>    9.463</td>\n",
       "</tr>\n",
       "</table>"
      ],
      "text/latex": [
       "\\begin{center}\n",
       "\\begin{tabular}{lcccccc}\n",
       "\\toprule\n",
       "                           & \\textbf{coef} & \\textbf{std err} & \\textbf{t} & \\textbf{P$> |$t$|$} & \\textbf{[0.025} & \\textbf{0.975]}  \\\\\n",
       "\\midrule\n",
       "\\textbf{Intercept}         &      -3.0819  &        0.066     &   -46.988  &         0.000        &       -3.211    &       -2.953     \\\\\n",
       "\\textbf{intervention}      &       0.3931  &        0.019     &    20.975  &         0.000        &        0.356    &        0.430     \\\\\n",
       "\\textbf{propensity\\_score} &       9.0700  &        0.200     &    45.244  &         0.000        &        8.677    &        9.463     \\\\\n",
       "\\bottomrule\n",
       "\\end{tabular}\n",
       "\\end{center}"
      ],
      "text/plain": [
       "<class 'statsmodels.iolib.table.SimpleTable'>"
      ]
     },
     "execution_count": 149,
     "metadata": {},
     "output_type": "execute_result"
    }
   ],
   "source": [
    "smf.ols(\"achievement_score ~ intervention + propensity_score\", data=data_ps).fit().summary().tables[1]"
   ]
  },
  {
   "cell_type": "markdown",
   "metadata": {},
   "source": [
    "若我们控制了倾向得分，现估计出的平均处理效应（ATE）为 0.39，低于此前未控制倾向得分的回归模型所得结果 0.47。此外，我们还可基于倾向得分进行匹配。此次，无需寻找所有 X 特征均相似的匹配对象，仅需确保其倾向得分相同即可。\n",
    "\n",
    "这是对匹配估计量的重大改进，因其解决了维度灾难问题。再者，若某特征对处理分配影响甚微，倾向得分模型会识别这一点，并在拟合处理机制时降低其权重。相比之下，基于特征的匹配仍会试图在个体间这一无关紧要的特征上寻找相似性。"
   ]
  },
  {
   "cell_type": "code",
   "execution_count": 152,
   "metadata": {
    "ExecuteTime": {
     "end_time": "2023-07-28T12:14:01.439507Z",
     "start_time": "2023-07-28T12:14:00.264993Z"
    }
   },
   "outputs": [
    {
     "name": "stdout",
     "output_type": "stream",
     "text": [
      "\n",
      "Treatment Effect Estimates: Matching\n",
      "\n",
      "                     Est.       S.e.          z      P>|z|      [95% Conf. int.]\n",
      "--------------------------------------------------------------------------------\n",
      "           ATE      0.383      0.025     15.252      0.000      0.334      0.432\n",
      "           ATC      0.371      0.028     13.434      0.000      0.317      0.425\n",
      "           ATT      0.407      0.027     15.341      0.000      0.355      0.459\n",
      "\n"
     ]
    }
   ],
   "source": [
    "cm = CausalModel(\n",
    "    Y=data_ps[\"achievement_score\"].values, \n",
    "    D=data_ps[\"intervention\"].values, \n",
    "    X=data_ps[[\"propensity_score\"]].values\n",
    ")\n",
    "\n",
    "cm.est_via_matching(matches=1, bias_adj=True)\n",
    "\n",
    "print(cm.estimates)"
   ]
  },
  {
   "cell_type": "markdown",
   "metadata": {},
   "source": [
    "如我们所见，此处亦获得 0.38 的平均处理效应（ATE），这与先前采用倾向得分加权法所得结果更为吻合。通过倾向得分匹配，我们还能直观理解为何处理组与对照组间倾向得分重叠区域过小会带来风险。一旦出现这种情况，倾向得分差异导致的匹配偏误将显著增大，正如我们在匹配章节中已探讨的那样，这会引入估计偏误。\n",
    "\n",
    "最后需要特别提醒的是，上述标准误计算存在错误，因其未考虑倾向得分估计过程中的不确定性。遗憾的是，[自助法（bootstrap）并不适用于匹配场景](https://economics.mit.edu/sites/default/files/publications/ON%20THE%20FAILURE%20OF%20THE%20BOOTSTRAP%20FOR.pdf)。此外，相关理论提出时间较近，目前尚无 Python 库能提供含正确标准误的倾向得分方法实现。正因如此，Python 生态中鲜见倾向得分匹配的应用案例。\n",
    "\n",
    "## 核心要点\n",
    "\n",
    "在本节中，我们学到了“接受处理的概率”被称为倾向得分（propensity score），并且它可以作为一种平衡得分（balancing score）来使用。\n",
    "这意味着，如果我们已经得到了倾向得分，就不需要再直接控制所有混杂变量了——只需控制倾向得分本身，就足以识别因果效应。我们还看到，倾向得分在某种程度上起到了对混杂变量空间进行降维**的作用。\n",
    "\n",
    "正是由于这些性质，我们推导出了一个基于加权的因果推断估计量（如 IPTW）。不仅如此，我们还看到倾向得分可以与其他方法结合使用，以控制混杂偏误。\n",
    "\n",
    "接着，我们讨论了一些倾向得分和因果推断中常见的问题。第一个问题是：当我们过于关注拟合处理机制时，可能会出错。我们发现，有一个非常违反直觉（因此也容易出错）的现象是：提升处理机制的预测性能，并不意味着更好的因果效应估计，反而可能会增加估计的方差。\n",
    "\n",
    "最后，我们还探讨了当处理组与对照组之间的倾向得分分布没有良好重叠时，可能会出现的外推问题。\n",
    "\n",
    "\n",
    "\n",
    "\n",
    "## 参考文献\n",
    "我愿将这一系列作品视为对 Joshua Angrist、Alberto Abadie 和 Christopher Walters 杰出计量经济学课程的致敬。第一部分的大部分思想源自他们在美国经济学会授课的内容。在艰难的 2020 年，正是观看他们的课程视频让我保持了理智。\n",
    "\n",
    " - [Cross-Section Econometrics](https://www.aeaweb.org/conference/cont-ed/2017-webcasts)\n",
    " - [Mastering Mostly Harmless Econometrics](https://www.aeaweb.org/conference/cont-ed/2020-webcasts)\n",
    "\n",
    " 我还想引用 Angrist 的精彩著作。它们向我展示了计量经济学（他们称之为“Metrics”）不仅极为实用，而且充满乐趣。\n",
    " - [Mostly Harmless Econometrics](https://www.mostlyharmlesseconometrics.com)\n",
    " - [Mastering ‘Metrics](https://www.masteringmetrics.com)\n",
    "\n",
    "最后还要感谢 Miguel Hernán 和 Jamie Robins 的[《Causal Inference》](https://hsph.harvard.edu/profile/miguel-hernan/)一书。它是我在面对最棘手的因果问题时的可靠伙伴。\n",
    "\n",
    "![img](./images/poetry.png)\n",
    "\n",
    "## 参与贡献\n",
    "\n",
    "**《Causal Inference for the Brave and True》** 是一本关于因果推断的开源教材，致力于以经济上可负担、认知上可理解的方式，普及这门“科学的统计基础”。全书基于 Python，仅使用自由开源软件编写，原始英文版本由 [Matheus Facure](https://github.com/matheusfacure) 编写与维护。\n",
    "\n",
    "本书的中文版由黄文喆与许文立助理教授合作翻译，并托管在 [GitHub 中文主页](https://github.com/Wenzhe-Huang/python-causality-handbook-zh)。希望本地化的内容能帮助更多中文读者学习和掌握因果推断方法。\n",
    "\n",
    "如果你觉得这本书对你有帮助，并希望支持该项目，可以前往 [Patreon](https://www.patreon.com/causal_inference_for_the_brave_and_true) 支持原作者。\n",
    "\n",
    "如果你暂时不方便进行经济支持，也可以通过以下方式参与贡献：\n",
    "\n",
    "* 修正错别字\n",
    "* 提出翻译或表达建议\n",
    "* 反馈你未能理解的部分内容\n",
    "\n",
    "欢迎前往英文版或中文版仓库点击 [issues 区](https://github.com/matheusfacure/python-causality-handbook/issues) 或 [中文版 issues 区](https://github.com/Wenzhe-Huang/python-causality-handbook-zh/issues) 提出反馈。\n",
    "\n",
    "最后，如果你喜欢这本书的内容，也请将其分享给可能感兴趣的朋友，并为项目在 GitHub 上点亮一颗星：[英文版仓库](https://github.com/matheusfacure/python-causality-handbook) / [中文版仓库](https://github.com/Wenzhe-Huang/python-causality-handbook-zh)。"
   ]
  },
  {
   "cell_type": "code",
   "execution_count": null,
   "metadata": {},
   "outputs": [],
   "source": []
  }
 ],
 "metadata": {
  "celltoolbar": "Tags",
  "kernelspec": {
   "display_name": "Python 3",
   "language": "python",
   "name": "python3"
  },
  "language_info": {
   "codemirror_mode": {
    "name": "ipython",
    "version": 3
   },
   "file_extension": ".py",
   "mimetype": "text/x-python",
   "name": "python",
   "nbconvert_exporter": "python",
   "pygments_lexer": "ipython3",
   "version": "3.12.2"
  },
  "toc": {
   "base_numbering": 1,
   "nav_menu": {},
   "number_sections": true,
   "sideBar": true,
   "skip_h1_title": false,
   "title_cell": "Table of Contents",
   "title_sidebar": "Contents",
   "toc_cell": false,
   "toc_position": {},
   "toc_section_display": true,
   "toc_window_display": false
  },
  "varInspector": {
   "cols": {
    "lenName": 16,
    "lenType": 16,
    "lenVar": 40
   },
   "kernels_config": {
    "python": {
     "delete_cmd_postfix": "",
     "delete_cmd_prefix": "del ",
     "library": "var_list.py",
     "varRefreshCmd": "print(var_dic_list())"
    },
    "r": {
     "delete_cmd_postfix": ") ",
     "delete_cmd_prefix": "rm(",
     "library": "var_list.r",
     "varRefreshCmd": "cat(var_dic_list()) "
    }
   },
   "types_to_exclude": [
    "module",
    "function",
    "builtin_function_or_method",
    "instance",
    "_Feature"
   ],
   "window_display": false
  }
 },
 "nbformat": 4,
 "nbformat_minor": 4
}
